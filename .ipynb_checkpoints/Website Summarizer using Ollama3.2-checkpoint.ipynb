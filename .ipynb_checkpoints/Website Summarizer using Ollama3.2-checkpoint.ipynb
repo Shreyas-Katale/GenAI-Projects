{
 "cells": [
  {
   "cell_type": "markdown",
   "id": "00c636e2-dd9e-42ba-ad98-255103b7830a",
   "metadata": {},
   "source": [
    "## Importing required libraries and assigning locally hosted Ollama using OpenAI library"
   ]
  },
  {
   "cell_type": "code",
   "execution_count": 1,
   "id": "04d3fbcb-ecee-4b02-b881-b76ef1febef0",
   "metadata": {},
   "outputs": [],
   "source": [
    "import os\n",
    "import requests\n",
    "from dotenv import load_dotenv\n",
    "from bs4 import BeautifulSoup\n",
    "from IPython.display import Markdown, display\n",
    "from openai import OpenAI\n",
    "\n",
    "ollama_via_openai = OpenAI(base_url='http://localhost:11434/v1', api_key='ollama')\n"
   ]
  },
  {
   "cell_type": "markdown",
   "id": "0b12dfb0-f184-4d3d-a9d8-ba6a48f91e9e",
   "metadata": {},
   "source": [
    "## Creating Object using Class Website for extracting text from the given website using BeautifulSoap library"
   ]
  },
  {
   "cell_type": "code",
   "execution_count": 2,
   "id": "1e426e53-05d8-4d6a-9d7c-9150a6543832",
   "metadata": {},
   "outputs": [],
   "source": [
    "headers = {\n",
    " \"User-Agent\": \"Mozilla/5.0 (Windows NT 10.0; Win64; x64) AppleWebKit/537.36 (KHTML, like Gecko) Chrome/117.0.0.0 Safari/537.36\"\n",
    "}\n",
    "\n",
    "class Website:\n",
    "    def __init__(self, url):\n",
    "        self.url = url\n",
    "        response = requests.get(url, headers=headers)\n",
    "        soup = BeautifulSoup(response.content, 'html.parser')\n",
    "        self.title = soup.title.string if soup.title else \"No title found\"\n",
    "        for irrelevant in soup.body([\"script\", \"style\", \"img\", \"input\"]):\n",
    "            irrelevant.decompose()\n",
    "        self.text = soup.body.get_text(separator=\"\\n\", strip=True)"
   ]
  },
  {
   "cell_type": "markdown",
   "id": "943d54ce-c5f6-4ce6-b5a9-a5c66db4810e",
   "metadata": {},
   "source": [
    "## Assigning System_Prompt and User_Prompt for response and using display markdown for better readability"
   ]
  },
  {
   "cell_type": "code",
   "execution_count": 3,
   "id": "677afc2d-2d1c-448a-9464-31a8af23b571",
   "metadata": {},
   "outputs": [],
   "source": [
    "system_prompt = \"You are an assistant that analyzes the contents of a website \\\n",
    "                and provides a short summary, ignoring text that might be navigation related. \\\n",
    "                Respond in markdown.\"\n",
    "\n",
    "def user_prompt_for(website):\n",
    "    user_prompt = f\"You are looking at a website titled {website.title}\"\n",
    "    user_prompt += \"\\nThe contents of this website is as follows; \\\n",
    "    please provide a short summary of this website in markdown. \\\n",
    "    If it includes news or announcements, then summarize these too.\\n\\n\"\n",
    "    user_prompt += website.text\n",
    "    return user_prompt\n",
    "\n",
    "def messages_for(website):\n",
    "    return [\n",
    "        {\"role\": \"system\", \"content\": system_prompt},\n",
    "        {\"role\": \"user\", \"content\": user_prompt_for(website)}\n",
    "    ]\n",
    "\n",
    "def summarize(url):\n",
    "    website = Website(url) \n",
    "    response = ollama_via_openai.chat.completions.create(\n",
    "    model=\"llama3.2\",\n",
    "    messages=messages_for(website)\n",
    "    )\n",
    "    return response.choices[0].message.content\n",
    "\n",
    "def display_summary(url):\n",
    "    summary = summarize(url)\n",
    "    display(Markdown(summary))"
   ]
  },
  {
   "cell_type": "markdown",
   "id": "dede778c-5e5b-491e-bf92-6ca8bd1d24ac",
   "metadata": {},
   "source": [
    "## Output"
   ]
  },
  {
   "cell_type": "code",
   "execution_count": 4,
   "id": "eb918365-51d1-4bfd-8090-eadd658c3020",
   "metadata": {},
   "outputs": [
    {
     "data": {
      "text/markdown": [
       "Here are some news articles and topics from the CNN website:\n",
       "\n",
       "**US Politics**\n",
       "\n",
       "* Trump administration targets Harvard's patents (business)\n",
       "* Donald Trump says Qatari jet could be ready for use as Air Force One in 6 months (politics)\n",
       "* Republicans reprise anti-transgender 'Kamala is for they/them' ads for the midterms (politics)\n",
       "\n",
       "**World News**\n",
       "\n",
       "* China claims South China Sea island's environmental concerns were fabricated (Asia)\n",
       "* Beijing denies China has 'super-embassy' plans in London (Europe)\n",
       "* In India, opposition leader gets life sentence over sedition charges (India)\n",
       "\n",
       "**Crime and Investigations**\n",
       "\n",
       "* Man accused of killing 4 people at Montana bar is in custody following weeklong manhunt (crime)\n",
       "* US District Court asks to release Epstein grand jury transcripts (justice)\n",
       "* Airman charged in fatal firearm incident at Wyoming Air Force Base (crime)\n",
       "\n",
       "**Entertainment and Lifestyle**\n",
       "\n",
       "* Billie Eilish insists on special rules at all her concerts due to environmental concerns (entertainment)\n",
       "* Private Welsh island with 19th-century fort goes on the market (real estate)\n",
       "* Sex toys thrown at WNBA games reveal weird window into online culture and reopen old wounds for women's sports (features)\n",
       "\n",
       "**Business**\n",
       "\n",
       "* Waterslide cracks open on world's largest cruise ship, injuring one passenger (travel)\n",
       "* Uber CEO announces departure from the company after 15 years (business)\n",
       "\n",
       "**Health**\n",
       "\n",
       "* A Nicaraguan immigrant and his family have been barricaded at home for days after he outran ICE agents (health)\n",
       "\n",
       "**Environmental News**\n",
       "\n",
       "* At 100 years old, Japan's atomic bomb survivors are ready to share long-buried stories about Hiroshima nuclear bombing (climate)\n",
       "* Private Welsh island with 19th-century fort goes on the market (sustainability)"
      ],
      "text/plain": [
       "<IPython.core.display.Markdown object>"
      ]
     },
     "metadata": {},
     "output_type": "display_data"
    }
   ],
   "source": [
    "display_summary(\"https://cnn.com\")"
   ]
  },
  {
   "cell_type": "code",
   "execution_count": null,
   "id": "abd3cbad-2eea-42c7-96d9-7f8b8fcaa0a3",
   "metadata": {},
   "outputs": [],
   "source": []
  }
 ],
 "metadata": {
  "kernelspec": {
   "display_name": "Python [conda env:llms]",
   "language": "python",
   "name": "conda-env-llms-py"
  },
  "language_info": {
   "codemirror_mode": {
    "name": "ipython",
    "version": 3
   },
   "file_extension": ".py",
   "mimetype": "text/x-python",
   "name": "python",
   "nbconvert_exporter": "python",
   "pygments_lexer": "ipython3",
   "version": "3.11.13"
  }
 },
 "nbformat": 4,
 "nbformat_minor": 5
}
