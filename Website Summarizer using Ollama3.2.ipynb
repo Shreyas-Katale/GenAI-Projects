{
 "cells": [
  {
   "cell_type": "code",
   "execution_count": 1,
   "id": "04d3fbcb-ecee-4b02-b881-b76ef1febef0",
   "metadata": {},
   "outputs": [],
   "source": [
    "import os\n",
    "import requests\n",
    "from dotenv import load_dotenv\n",
    "from bs4 import BeautifulSoup\n",
    "from IPython.display import Markdown, display\n",
    "from openai import OpenAI\n",
    "\n",
    "ollama_via_openai = OpenAI(base_url='http://localhost:11434/v1', api_key='ollama')\n",
    "\n",
    "\n",
    "headers = {\n",
    " \"User-Agent\": \"Mozilla/5.0 (Windows NT 10.0; Win64; x64) AppleWebKit/537.36 (KHTML, like Gecko) Chrome/117.0.0.0 Safari/537.36\"\n",
    "}\n",
    "\n",
    "class Website:\n",
    "\n",
    "    def __init__(self, url):\n",
    "        \"\"\"\n",
    "        Create this Website object from the given url using the BeautifulSoup library\n",
    "        \"\"\"\n",
    "        self.url = url\n",
    "        response = requests.get(url, headers=headers)\n",
    "        soup = BeautifulSoup(response.content, 'html.parser')\n",
    "        self.title = soup.title.string if soup.title else \"No title found\"\n",
    "        for irrelevant in soup.body([\"script\", \"style\", \"img\", \"input\"]):\n",
    "            irrelevant.decompose()\n",
    "        self.text = soup.body.get_text(separator=\"\\n\", strip=True)"
   ]
  },
  {
   "cell_type": "code",
   "execution_count": 2,
   "id": "677afc2d-2d1c-448a-9464-31a8af23b571",
   "metadata": {},
   "outputs": [],
   "source": [
    "system_prompt = \"You are an assistant that analyzes the contents of a website \\\n",
    "                and provides a short summary, ignoring text that might be navigation related. \\\n",
    "                Respond in markdown.\"\n",
    "\n",
    "def user_prompt_for(website):\n",
    "    user_prompt = f\"You are looking at a website titled {website.title}\"\n",
    "    user_prompt += \"\\nThe contents of this website is as follows; \\\n",
    "    please provide a short summary of this website in markdown. \\\n",
    "    If it includes news or announcements, then summarize these too.\\n\\n\"\n",
    "    user_prompt += website.text\n",
    "    return user_prompt\n",
    "\n",
    "def messages_for(website):\n",
    "    return [\n",
    "        {\"role\": \"system\", \"content\": system_prompt},\n",
    "        {\"role\": \"user\", \"content\": user_prompt_for(website)}\n",
    "    ]\n",
    "\n",
    "def summarize(url):\n",
    "    website = Website(url) \n",
    "    response = ollama_via_openai.chat.completions.create(\n",
    "    model=\"llama3.2\",\n",
    "    messages=messages_for(website)\n",
    "    )\n",
    "    return response.choices[0].message.content\n",
    "\n",
    "def display_summary(url):\n",
    "    summary = summarize(url)\n",
    "    display(Markdown(summary))"
   ]
  },
  {
   "cell_type": "code",
   "execution_count": 3,
   "id": "eb918365-51d1-4bfd-8090-eadd658c3020",
   "metadata": {},
   "outputs": [
    {
     "data": {
      "text/markdown": [
       "This is the home page of CNN.com, a 24-hour cable news network that provides up-to-date news, information, and analysis on current events from around the world. The page features various sections, including:\n",
       "\n",
       "1. **Headlines**: A scrolling list of top news stories, updated in real-time.\n",
       "2. **Special Reports**: In-depth coverage of major stories, such as politics, business, sports, and more.\n",
       "3. **Top Stories**: Quick summaries of the day's most important stories.\n",
       "4. **More News**: Articles on various topics, including crime and justice, politics, business, and entertainment.\n",
       "5. **Photos**: A collection of photos from around the world, with captions and links to related news stories.\n",
       "6. **Videos**: A selection of videos, including clips of CNN personalities, live coverage of events, and in-depth interviews.\n",
       "7. **Buzz**: A section highlighting trending topics on social media and online discussions.\n",
       "8. **Weighing In**: Op-Ed columns and articles from prominent writers on various issues.\n",
       "9. **On This Day**: Trivia and interesting facts about historical events and dates.\n",
       "10. **Features**: Articles on lifestyle, travel, food, technology, and other topics of interest.\n",
       "11. **CNN 5 Things**: A daily quiz featuring five random questions, updated every day at 6:00 pm ET.\n",
       "12. **Games**: Crosswords, word games, and other interactive activities for entertainment and challenge.\n",
       "13. **Transcripts**: Transcribed versions of CNN programs and interviews.\n",
       "\n",
       "In addition to these sections, the home page also includes:\n",
       "\n",
       "* A navigation bar with links to different CNN brands, including HLN (Women's Interest Network), CNNMoney, and CNN Video.\n",
       "* Links to popular CNN podcasts, such as \"Anderson Cooper 360°\" and \"The Axe Files.\"\n",
       "* A search bar for quickly finding specific news stories or articles.\n",
       "\n",
       "This page offers a comprehensive overview of the latest news and developments from around the world, making it an excellent starting point for anyone looking to stay informed about current events."
      ],
      "text/plain": [
       "<IPython.core.display.Markdown object>"
      ]
     },
     "metadata": {},
     "output_type": "display_data"
    }
   ],
   "source": [
    "display_summary(\"https://cnn.com\")"
   ]
  },
  {
   "cell_type": "code",
   "execution_count": null,
   "id": "23ace548-1afb-4a01-a9ed-04ea11cf88af",
   "metadata": {},
   "outputs": [],
   "source": []
  },
  {
   "cell_type": "code",
   "execution_count": null,
   "id": "0fe2f464-ec13-4a26-84da-b0fd9918dac8",
   "metadata": {},
   "outputs": [],
   "source": []
  }
 ],
 "metadata": {
  "kernelspec": {
   "display_name": "Python [conda env:llms]",
   "language": "python",
   "name": "conda-env-llms-py"
  },
  "language_info": {
   "codemirror_mode": {
    "name": "ipython",
    "version": 3
   },
   "file_extension": ".py",
   "mimetype": "text/x-python",
   "name": "python",
   "nbconvert_exporter": "python",
   "pygments_lexer": "ipython3",
   "version": "3.11.13"
  }
 },
 "nbformat": 4,
 "nbformat_minor": 5
}
