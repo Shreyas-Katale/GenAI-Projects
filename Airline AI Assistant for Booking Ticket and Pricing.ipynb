{
 "cells": [
  {
   "cell_type": "code",
   "execution_count": 1,
   "id": "87fb6c33-d9ce-45b1-905e-dc5e13d834e5",
   "metadata": {},
   "outputs": [],
   "source": [
    "import os\n",
    "import json\n",
    "from dotenv import load_dotenv\n",
    "from openai import OpenAI\n",
    "import gradio as gr"
   ]
  },
  {
   "cell_type": "code",
   "execution_count": 2,
   "id": "27c00dfc-b14f-46c8-8c31-17987629da86",
   "metadata": {},
   "outputs": [
    {
     "name": "stdout",
     "output_type": "stream",
     "text": [
      "OpenAI API Key exists and begins sk-proj-\n"
     ]
    }
   ],
   "source": [
    "load_dotenv(override=True)\n",
    "\n",
    "openai_api_key = os.getenv('OPENAI_API_KEY')\n",
    "if openai_api_key:\n",
    "    print(f\"OpenAI API Key exists and begins {openai_api_key[:8]}\")\n",
    "else:\n",
    "    print(\"OpenAI API Key not set\")\n",
    "    \n",
    "MODEL = \"gpt-4o-mini\"\n",
    "openai = OpenAI()"
   ]
  },
  {
   "cell_type": "code",
   "execution_count": 3,
   "id": "0731555e-1d54-4f4e-b7d4-fe7fdf2209b1",
   "metadata": {},
   "outputs": [],
   "source": [
    "system_message = \"\"\"You are a helpful assistant for an Airline called FlightAI. Give short, courteous answers, no more than 1 sentence. \n",
    "                    Always be accurate. If you don't know the answer, say so.\"\"\"\n",
    "\n",
    "ticket_prices_dict = {\"texas\":\"$799\", \"ohio\":\"$599\", \"mumbai\":\"$499\", \"london\":\"$899\", \"tokyo\":\"$799\"}\n",
    "\n",
    "ticket_availability_dict = {\"texas\": \"30\", \"ohio\":\"20\", \"mumbai\":\"15\", \"london\":\"10\", \"tokyo\":\"0\"}"
   ]
  },
  {
   "cell_type": "code",
   "execution_count": 4,
   "id": "6360a990-992c-49bf-a25f-89d55002771f",
   "metadata": {},
   "outputs": [],
   "source": [
    "def ticket_price(city):\n",
    "    print(f\"Tool ticket_price called for {city}\")\n",
    "    return ticket_prices_dict.get(city.lower(),\"Unknown\")"
   ]
  },
  {
   "cell_type": "code",
   "execution_count": 5,
   "id": "85941a92-8471-4240-9a59-206860457fb2",
   "metadata": {},
   "outputs": [],
   "source": [
    "def get_ticket_availability(city):\n",
    "    print(f\"Tool get_ticket_availability called for {city}\")\n",
    "    available = city.lower()\n",
    "    return ticket_availability_dict.get(available, \"Unknown\")"
   ]
  },
  {
   "cell_type": "code",
   "execution_count": 6,
   "id": "5b8c456e-bd47-45d5-8651-58d2c9e9b88c",
   "metadata": {},
   "outputs": [],
   "source": [
    "def ticket_booking(city, number_of_available_tickets, number_of_tickets):\n",
    "    print(f\"Tool ticket_booking called for {city} and number_of_available_tickets are {number_of_available_tickets} and number_of_tickets are {number_of_tickets}\")\n",
    "    if int(number_of_available_tickets if number_of_available_tickets!=\"Unknown\" else \"0\")-int(number_of_tickets) < 0:\n",
    "        return \"Currently tickets are not available for \"+city+\".\"\n",
    "    else:\n",
    "        ticket_availability_dict[city.lower()] = str(int(number_of_available_tickets)-int(number_of_tickets))\n",
    "        return \"Your booking has been confirmed for \"+city+\".\"\n",
    "        "
   ]
  },
  {
   "cell_type": "code",
   "execution_count": 7,
   "id": "b1dcdd3d-9de5-4ab5-91d6-a797af7bb250",
   "metadata": {},
   "outputs": [],
   "source": [
    "ticket_price_function = {\n",
    "    \"name\": \"ticket_price\",\n",
    "    \"description\": \"Get the price of a return ticket to the mentioned city. Call this whenever you need to know the ticket price, for example when a customer asks 'How much is a ticket to this city'\",\n",
    "    \"parameters\": {\n",
    "        \"type\": \"object\",\n",
    "        \"properties\": {\n",
    "            \"city\": {\n",
    "                \"type\": \"string\",\n",
    "                \"description\": \"The city that the customer wants to travel to\",\n",
    "            },\n",
    "        },\n",
    "        \"required\": [\"city\"],\n",
    "        \"additionalProperties\": False\n",
    "    }\n",
    "}\n",
    "\n",
    "ticket_availability_function = {\n",
    "    \"name\": \"get_ticket_availability\",\n",
    "    \"description\": \"Get number of tickets that are available for booking to the mentioned city. Call this whenever you need to know available tickets for booking, for example when a customer asks 'How many tickets are available for booking for city'\",\n",
    "    \"parameters\": {\n",
    "        \"type\": \"object\",\n",
    "        \"properties\": {\n",
    "            \"city\": {\n",
    "                \"type\": \"string\",\n",
    "                \"description\": \"The city that the customer wants to book tickets for\",\n",
    "            },\n",
    "        },\n",
    "        \"required\": [\"city\"],\n",
    "        \"additionalProperties\": False\n",
    "    }\n",
    "}\n",
    "\n",
    "ticket_booking_function = {\n",
    "    \"name\": \"ticket_booking\",\n",
    "    \"description\": \"Book the tickets to the mentioned city. Call this whenever you need to book tickets, for example when a customer asks 'I want to book tickets for this city'\",\n",
    "    \"parameters\": {\n",
    "        \"type\": \"object\",\n",
    "        \"properties\": {\n",
    "            \"city\": {\n",
    "                \"type\": \"string\",\n",
    "                \"description\": \"The city that the customer wants to travel to\"\n",
    "            },\n",
    "            \"number_of_available_tickets\": {\n",
    "                \"type\": \"string\",\n",
    "                \"description\": \"Total number of tickets that are available for bookong\"\n",
    "            },\n",
    "            \"number_of_tickets\": {\n",
    "                \"type\": \"string\",\n",
    "                \"description\": \"The number of tickets that the customer wants to book\"\n",
    "            }\n",
    "        },\n",
    "        \"required\": [\"city\",\"number_of_available_tickets\", \"number_of_tickets\"],\n",
    "        \"additionalProperties\": False\n",
    "    }\n",
    "}"
   ]
  },
  {
   "cell_type": "code",
   "execution_count": 8,
   "id": "bd6fae34-181c-4dd8-be6b-3952d7ed9103",
   "metadata": {},
   "outputs": [],
   "source": [
    "tools = [{\"type\": \"function\", \"function\": ticket_price_function}, \n",
    "         {\"type\": \"function\", \"function\": ticket_availability_function},\n",
    "         {\"type\": \"function\", \"function\": ticket_booking_function}]"
   ]
  },
  {
   "cell_type": "code",
   "execution_count": 9,
   "id": "3bd9cf32-cdfd-4d86-b389-9335d7ddfa97",
   "metadata": {},
   "outputs": [],
   "source": [
    "def handle_tools(message):\n",
    "    tool_call = message.tool_calls[0]\n",
    "    arguments = json.loads(tool_call.function.arguments)\n",
    "    function_name = json.dumps(tool_call.function.name)\n",
    "    city = arguments.get('city')\n",
    "    num_of_tickets = arguments.get('number_of_tickets')  \n",
    "\n",
    "    if function_name.replace('\"','') == \"ticket_price\":\n",
    "        price = ticket_price(city)\n",
    "        response = { \n",
    "            \"role\": \"tool\",\n",
    "            \"content\": json.dumps({\"city\": city,\"ticket_price\": price}),\n",
    "            \"tool_call_id\": tool_call.id\n",
    "        }\n",
    "    elif function_name.replace('\"','') == \"ticket_booking\":\n",
    "        number_of_available_tickets = get_ticket_availability(city)\n",
    "        result = ticket_booking(city, number_of_available_tickets, num_of_tickets)\n",
    "        response = {\n",
    "            \"role\": \"tool\",\n",
    "            \"content\": json.dumps({\"city\": city,\"booking\": result}),\n",
    "            \"tool_call_id\": tool_call.id\n",
    "        }\n",
    "\n",
    "    else:\n",
    "        available_tickets = get_ticket_availability(city)\n",
    "        response = {\n",
    "            \"role\": \"tool\",\n",
    "            \"content\": json.dumps({\"city\": city,\"number_of_available_tickets\": available_tickets}),\n",
    "            \"tool_call_id\": tool_call.id\n",
    "        }\n",
    "    return response, city"
   ]
  },
  {
   "cell_type": "code",
   "execution_count": 10,
   "id": "62707542-cf46-42e1-818a-6cd17fbb1d88",
   "metadata": {},
   "outputs": [
    {
     "name": "stdout",
     "output_type": "stream",
     "text": [
      "* Running on local URL:  http://127.0.0.1:7860\n",
      "* To create a public link, set `share=True` in `launch()`.\n"
     ]
    },
    {
     "data": {
      "text/html": [
       "<div><iframe src=\"http://127.0.0.1:7860/\" width=\"100%\" height=\"500\" allow=\"autoplay; camera; microphone; clipboard-read; clipboard-write;\" frameborder=\"0\" allowfullscreen></iframe></div>"
      ],
      "text/plain": [
       "<IPython.core.display.HTML object>"
      ]
     },
     "metadata": {},
     "output_type": "display_data"
    },
    {
     "data": {
      "text/plain": []
     },
     "execution_count": 10,
     "metadata": {},
     "output_type": "execute_result"
    }
   ],
   "source": [
    "def chat(message, history):\n",
    "    messages = [{\"role\":\"system\",\"content\":system_message}] + history + [{\"role\":\"user\",\"content\":message}]\n",
    "\n",
    "    response = openai.chat.completions.create(model=MODEL, messages=messages, tools=tools)\n",
    "\n",
    "    if response.choices[0].finish_reason==\"tool_calls\":\n",
    "        message = response.choices[0].message\n",
    "        tool_call = message.tool_calls[0]\n",
    "        arguments = json.loads(tool_call.function.arguments)\n",
    "        function_name = json.dumps(tool_call.function.name)\n",
    "        print(function_name)\n",
    "        city = arguments.get('city')\n",
    "        number_of_tickets = arguments.get('number_of_tickets')\n",
    "\n",
    "        if function_name.replace('\"','') == \"book_ticket\":\n",
    "            response, city = handle_tools(message)\n",
    "            messages.append(message)\n",
    "            messages.append(response)\n",
    "            # image = artist(city)\n",
    "            response = openai.chat.completions.create(model=MODEL, messages=messages, tools=tools)\n",
    "\n",
    "        elif function_name.replace('\"','') == \"ticket_price_function\":\n",
    "            price = ticket_price(city)\n",
    "            availability = get_ticket_availability(city)\n",
    "            response = {\n",
    "                        \"role\": \"tool\",\n",
    "                        \"content\": json.dumps({\"destination_city\": city,\"price\": price,\"availability\": availability}),\n",
    "                        \"tool_call_id\": tool_call.id\n",
    "                        }\n",
    "            messages.append(message)\n",
    "            messages.append(response)\n",
    "            print(messages)\n",
    "            response = openai.chat.completions.create(model=MODEL, messages=messages, tools=tools)                    \n",
    "        else:    \n",
    "            response, city = handle_tools(message)\n",
    "            messages.append(message)\n",
    "            messages.append(response)\n",
    "            # image = artist(city)\n",
    "            response = openai.chat.completions.create(model=MODEL, messages=messages, tools=tools)\n",
    "\n",
    "    return response.choices[0].message.content\n",
    "gr.ChatInterface(fn=chat, type=\"messages\").launch()"
   ]
  },
  {
   "cell_type": "markdown",
   "id": "c1a5bb6e-b862-470b-afc7-fb1a88f06195",
   "metadata": {},
   "source": [
    "## after booking the ticket the ticket_availability_dict got updated"
   ]
  },
  {
   "cell_type": "code",
   "execution_count": 12,
   "id": "aea2622d-45b7-4e66-934f-71be9ced6346",
   "metadata": {},
   "outputs": [
    {
     "data": {
      "text/plain": [
       "{'texas': '30', 'ohio': '20', 'mumbai': '15', 'london': '5', 'tokyo': '0'}"
      ]
     },
     "execution_count": 12,
     "metadata": {},
     "output_type": "execute_result"
    }
   ],
   "source": [
    "ticket_availability_dict"
   ]
  },
  {
   "cell_type": "code",
   "execution_count": null,
   "id": "2951919f-e29c-445f-a2c7-3ac375d9b90c",
   "metadata": {},
   "outputs": [],
   "source": []
  }
 ],
 "metadata": {
  "kernelspec": {
   "display_name": "Python 3 (ipykernel)",
   "language": "python",
   "name": "python3"
  },
  "language_info": {
   "codemirror_mode": {
    "name": "ipython",
    "version": 3
   },
   "file_extension": ".py",
   "mimetype": "text/x-python",
   "name": "python",
   "nbconvert_exporter": "python",
   "pygments_lexer": "ipython3",
   "version": "3.11.13"
  }
 },
 "nbformat": 4,
 "nbformat_minor": 5
}
